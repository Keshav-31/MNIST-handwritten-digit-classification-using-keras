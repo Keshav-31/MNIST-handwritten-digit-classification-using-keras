{
 "cells": [
  {
   "cell_type": "code",
   "execution_count": 2,
   "metadata": {},
   "outputs": [
    {
     "name": "stderr",
     "output_type": "stream",
     "text": [
      "Using TensorFlow backend.\n"
     ]
    }
   ],
   "source": [
    "import numpy as np\n",
    "import pandas as pd\n",
    "import tensorflow as tf\n",
    "import keras\n",
    "from keras import layers\n",
    "import matplotlib.pyplot as plt\n",
    "from matplotlib.pyplot import imshow\n",
    "import h5py\n",
    "\n",
    "%matplotlib inline"
   ]
  },
  {
   "cell_type": "code",
   "execution_count": 3,
   "metadata": {},
   "outputs": [],
   "source": [
    "df_train=pd.read_csv('train.csv')\n",
    "df_test=pd.read_csv('test.csv')"
   ]
  },
  {
   "cell_type": "code",
   "execution_count": 4,
   "metadata": {},
   "outputs": [
    {
     "data": {
      "text/html": [
       "<div>\n",
       "<style scoped>\n",
       "    .dataframe tbody tr th:only-of-type {\n",
       "        vertical-align: middle;\n",
       "    }\n",
       "\n",
       "    .dataframe tbody tr th {\n",
       "        vertical-align: top;\n",
       "    }\n",
       "\n",
       "    .dataframe thead th {\n",
       "        text-align: right;\n",
       "    }\n",
       "</style>\n",
       "<table border=\"1\" class=\"dataframe\">\n",
       "  <thead>\n",
       "    <tr style=\"text-align: right;\">\n",
       "      <th></th>\n",
       "      <th>pixel0</th>\n",
       "      <th>pixel1</th>\n",
       "      <th>pixel2</th>\n",
       "      <th>pixel3</th>\n",
       "      <th>pixel4</th>\n",
       "      <th>pixel5</th>\n",
       "      <th>pixel6</th>\n",
       "      <th>pixel7</th>\n",
       "      <th>pixel8</th>\n",
       "      <th>pixel9</th>\n",
       "      <th>...</th>\n",
       "      <th>pixel774</th>\n",
       "      <th>pixel775</th>\n",
       "      <th>pixel776</th>\n",
       "      <th>pixel777</th>\n",
       "      <th>pixel778</th>\n",
       "      <th>pixel779</th>\n",
       "      <th>pixel780</th>\n",
       "      <th>pixel781</th>\n",
       "      <th>pixel782</th>\n",
       "      <th>pixel783</th>\n",
       "    </tr>\n",
       "  </thead>\n",
       "  <tbody>\n",
       "    <tr>\n",
       "      <th>0</th>\n",
       "      <td>0</td>\n",
       "      <td>0</td>\n",
       "      <td>0</td>\n",
       "      <td>0</td>\n",
       "      <td>0</td>\n",
       "      <td>0</td>\n",
       "      <td>0</td>\n",
       "      <td>0</td>\n",
       "      <td>0</td>\n",
       "      <td>0</td>\n",
       "      <td>...</td>\n",
       "      <td>0</td>\n",
       "      <td>0</td>\n",
       "      <td>0</td>\n",
       "      <td>0</td>\n",
       "      <td>0</td>\n",
       "      <td>0</td>\n",
       "      <td>0</td>\n",
       "      <td>0</td>\n",
       "      <td>0</td>\n",
       "      <td>0</td>\n",
       "    </tr>\n",
       "    <tr>\n",
       "      <th>1</th>\n",
       "      <td>0</td>\n",
       "      <td>0</td>\n",
       "      <td>0</td>\n",
       "      <td>0</td>\n",
       "      <td>0</td>\n",
       "      <td>0</td>\n",
       "      <td>0</td>\n",
       "      <td>0</td>\n",
       "      <td>0</td>\n",
       "      <td>0</td>\n",
       "      <td>...</td>\n",
       "      <td>0</td>\n",
       "      <td>0</td>\n",
       "      <td>0</td>\n",
       "      <td>0</td>\n",
       "      <td>0</td>\n",
       "      <td>0</td>\n",
       "      <td>0</td>\n",
       "      <td>0</td>\n",
       "      <td>0</td>\n",
       "      <td>0</td>\n",
       "    </tr>\n",
       "    <tr>\n",
       "      <th>2</th>\n",
       "      <td>0</td>\n",
       "      <td>0</td>\n",
       "      <td>0</td>\n",
       "      <td>0</td>\n",
       "      <td>0</td>\n",
       "      <td>0</td>\n",
       "      <td>0</td>\n",
       "      <td>0</td>\n",
       "      <td>0</td>\n",
       "      <td>0</td>\n",
       "      <td>...</td>\n",
       "      <td>0</td>\n",
       "      <td>0</td>\n",
       "      <td>0</td>\n",
       "      <td>0</td>\n",
       "      <td>0</td>\n",
       "      <td>0</td>\n",
       "      <td>0</td>\n",
       "      <td>0</td>\n",
       "      <td>0</td>\n",
       "      <td>0</td>\n",
       "    </tr>\n",
       "    <tr>\n",
       "      <th>3</th>\n",
       "      <td>0</td>\n",
       "      <td>0</td>\n",
       "      <td>0</td>\n",
       "      <td>0</td>\n",
       "      <td>0</td>\n",
       "      <td>0</td>\n",
       "      <td>0</td>\n",
       "      <td>0</td>\n",
       "      <td>0</td>\n",
       "      <td>0</td>\n",
       "      <td>...</td>\n",
       "      <td>0</td>\n",
       "      <td>0</td>\n",
       "      <td>0</td>\n",
       "      <td>0</td>\n",
       "      <td>0</td>\n",
       "      <td>0</td>\n",
       "      <td>0</td>\n",
       "      <td>0</td>\n",
       "      <td>0</td>\n",
       "      <td>0</td>\n",
       "    </tr>\n",
       "    <tr>\n",
       "      <th>4</th>\n",
       "      <td>0</td>\n",
       "      <td>0</td>\n",
       "      <td>0</td>\n",
       "      <td>0</td>\n",
       "      <td>0</td>\n",
       "      <td>0</td>\n",
       "      <td>0</td>\n",
       "      <td>0</td>\n",
       "      <td>0</td>\n",
       "      <td>0</td>\n",
       "      <td>...</td>\n",
       "      <td>0</td>\n",
       "      <td>0</td>\n",
       "      <td>0</td>\n",
       "      <td>0</td>\n",
       "      <td>0</td>\n",
       "      <td>0</td>\n",
       "      <td>0</td>\n",
       "      <td>0</td>\n",
       "      <td>0</td>\n",
       "      <td>0</td>\n",
       "    </tr>\n",
       "  </tbody>\n",
       "</table>\n",
       "<p>5 rows × 784 columns</p>\n",
       "</div>"
      ],
      "text/plain": [
       "   pixel0  pixel1  pixel2  pixel3  pixel4  pixel5  pixel6  pixel7  pixel8  \\\n",
       "0       0       0       0       0       0       0       0       0       0   \n",
       "1       0       0       0       0       0       0       0       0       0   \n",
       "2       0       0       0       0       0       0       0       0       0   \n",
       "3       0       0       0       0       0       0       0       0       0   \n",
       "4       0       0       0       0       0       0       0       0       0   \n",
       "\n",
       "   pixel9  ...  pixel774  pixel775  pixel776  pixel777  pixel778  pixel779  \\\n",
       "0       0  ...         0         0         0         0         0         0   \n",
       "1       0  ...         0         0         0         0         0         0   \n",
       "2       0  ...         0         0         0         0         0         0   \n",
       "3       0  ...         0         0         0         0         0         0   \n",
       "4       0  ...         0         0         0         0         0         0   \n",
       "\n",
       "   pixel780  pixel781  pixel782  pixel783  \n",
       "0         0         0         0         0  \n",
       "1         0         0         0         0  \n",
       "2         0         0         0         0  \n",
       "3         0         0         0         0  \n",
       "4         0         0         0         0  \n",
       "\n",
       "[5 rows x 784 columns]"
      ]
     },
     "execution_count": 4,
     "metadata": {},
     "output_type": "execute_result"
    }
   ],
   "source": [
    "df_test.head()"
   ]
  },
  {
   "cell_type": "code",
   "execution_count": 5,
   "metadata": {},
   "outputs": [],
   "source": [
    "input_shape=(28,28,1)\n",
    "num_classes=10\n",
    "y_train=df_train[\"label\"]\n",
    "x_train=df_train.drop(labels=[\"label\"],axis=1)\n",
    "x_test=df_test\n",
    "\n",
    "x_train=x_train.astype(\"float32\")/255\n",
    "x_test=x_test.astype(\"float32\")/255"
   ]
  },
  {
   "cell_type": "code",
   "execution_count": 6,
   "metadata": {},
   "outputs": [],
   "source": [
    "x_train = x_train.values.reshape(x_train.shape[0], 28, 28, 1)\n",
    "x_test = x_test.values.reshape(x_test.shape[0], 28, 28, 1)"
   ]
  },
  {
   "cell_type": "markdown",
   "metadata": {},
   "source": [
    "# In case you don't want to train the whole model,go to the last cell and load the model directly"
   ]
  },
  {
   "cell_type": "code",
   "execution_count": 7,
   "metadata": {},
   "outputs": [
    {
     "data": {
      "text/plain": [
       "(42000, 28, 28, 1)"
      ]
     },
     "execution_count": 7,
     "metadata": {},
     "output_type": "execute_result"
    }
   ],
   "source": [
    "x_train.shape"
   ]
  },
  {
   "cell_type": "code",
   "execution_count": 8,
   "metadata": {},
   "outputs": [
    {
     "data": {
      "text/plain": [
       "<matplotlib.image.AxesImage at 0x23d2143b0b8>"
      ]
     },
     "execution_count": 8,
     "metadata": {},
     "output_type": "execute_result"
    },
    {
     "data": {
      "image/png": "[encoded data removed]",
      "text/plain": [
       "<Figure size 432x288 with 1 Axes>"
      ]
     },
     "metadata": {
      "needs_background": "light"
     },
     "output_type": "display_data"
    }
   ],
   "source": [
    "plt.imshow(x_train[7,:,:,0],cmap='gray')"
   ]
  },
  {
   "cell_type": "code",
   "execution_count": 9,
   "metadata": {},
   "outputs": [],
   "source": [
    "from sklearn.model_selection import train_test_split\n",
    "from keras.utils.np_utils import to_categorical\n",
    "x_train, x_dev, y_train, y_dev = train_test_split(x_train, y_train, test_size=0.1, random_state=1)\n",
    "y_train=to_categorical(y_train,num_classes)\n",
    "y_dev=to_categorical(y_dev,num_classes)"
   ]
  },
  {
   "cell_type": "code",
   "execution_count": 10,
   "metadata": {},
   "outputs": [],
   "source": [
    "def Cmodel(input_shape):\n",
    "    X_input=keras.Input(input_shape)\n",
    "    X=X_input\n",
    "    X=layers.Conv2D(32,(3,3),padding='valid',activation='relu',name='conv1')(X)\n",
    "    X=layers.MaxPooling2D(pool_size=(2,2),name='pool1')(X)\n",
    "\n",
    "    X=layers.Conv2D(64,(5,5),activation='relu',name='conv2')(X)\n",
    "    X=layers.MaxPooling2D(pool_size=(2,2),name='pool2')(X)\n",
    "\n",
    "    X=layers.Flatten()(X)\n",
    "    X=layers.Dropout(0.5)(X)\n",
    "    X=layers.Dense(10,activation=\"softmax\",name='fc')(X)\n",
    "\n",
    "    model = keras.models.Model(inputs = X_input, outputs = X, name='digit_classification')\n",
    "    return model\n"
   ]
  },
  {
   "cell_type": "code",
   "execution_count": 11,
   "metadata": {},
   "outputs": [],
   "source": [
    "digit_class=Cmodel(x_train.shape[1:])"
   ]
  },
  {
   "cell_type": "code",
   "execution_count": 12,
   "metadata": {},
   "outputs": [
    {
     "name": "stdout",
     "output_type": "stream",
     "text": [
      "Model: \"digit_classification\"\n",
      "_________________________________________________________________\n",
      "Layer (type)                 Output Shape              Param #   \n",
      "=================================================================\n",
      "input_1 (InputLayer)         (None, 28, 28, 1)         0         \n",
      "_________________________________________________________________\n",
      "conv1 (Conv2D)               (None, 26, 26, 32)        320       \n",
      "_________________________________________________________________\n",
      "pool1 (MaxPooling2D)         (None, 13, 13, 32)        0         \n",
      "_________________________________________________________________\n",
      "conv2 (Conv2D)               (None, 9, 9, 64)          51264     \n",
      "_________________________________________________________________\n",
      "pool2 (MaxPooling2D)         (None, 4, 4, 64)          0         \n",
      "_________________________________________________________________\n",
      "flatten_1 (Flatten)          (None, 1024)              0         \n",
      "_________________________________________________________________\n",
      "dropout_1 (Dropout)          (None, 1024)              0         \n",
      "_________________________________________________________________\n",
      "fc (Dense)                   (None, 10)                10250     \n",
      "=================================================================\n",
      "Total params: 61,834\n",
      "Trainable params: 61,834\n",
      "Non-trainable params: 0\n",
      "_________________________________________________________________\n"
     ]
    }
   ],
   "source": [
    "digit_class.summary()"
   ]
  },
  {
   "cell_type": "code",
   "execution_count": 13,
   "metadata": {},
   "outputs": [
    {
     "name": "stdout",
     "output_type": "stream",
     "text": [
      "Train on 37800 samples, validate on 4200 samples\n",
      "Epoch 1/25\n",
      "37800/37800 [==============================] - 20s 527us/step - loss: 0.4318 - accuracy: 0.8660 - val_loss: 0.1131 - val_accuracy: 0.9681\n",
      "Epoch 2/25\n",
      "37800/37800 [==============================] - 20s 529us/step - loss: 0.1263 - accuracy: 0.9605 - val_loss: 0.0806 - val_accuracy: 0.9781\n",
      "Epoch 3/25\n",
      "37800/37800 [==============================] - 20s 521us/step - loss: 0.0919 - accuracy: 0.9723 - val_loss: 0.0577 - val_accuracy: 0.9829\n",
      "Epoch 4/25\n",
      "37800/37800 [==============================] - 20s 523us/step - loss: 0.0735 - accuracy: 0.9771 - val_loss: 0.0535 - val_accuracy: 0.9843\n",
      "Epoch 5/25\n",
      "37800/37800 [==============================] - 20s 531us/step - loss: 0.0635 - accuracy: 0.9807 - val_loss: 0.0503 - val_accuracy: 0.9850\n",
      "Epoch 6/25\n",
      "37800/37800 [==============================] - 20s 526us/step - loss: 0.0580 - accuracy: 0.9818 - val_loss: 0.0448 - val_accuracy: 0.9869\n",
      "Epoch 7/25\n",
      "37800/37800 [==============================] - 20s 527us/step - loss: 0.0525 - accuracy: 0.9834 - val_loss: 0.0431 - val_accuracy: 0.9862\n",
      "Epoch 8/25\n",
      "37800/37800 [==============================] - 20s 527us/step - loss: 0.0466 - accuracy: 0.9859 - val_loss: 0.0442 - val_accuracy: 0.9867\n",
      "Epoch 9/25\n",
      "37800/37800 [==============================] - 20s 540us/step - loss: 0.0419 - accuracy: 0.9870 - val_loss: 0.0371 - val_accuracy: 0.9893\n",
      "Epoch 10/25\n",
      "37800/37800 [==============================] - 19s 501us/step - loss: 0.0387 - accuracy: 0.9880 - val_loss: 0.0379 - val_accuracy: 0.9883\n",
      "Epoch 11/25\n",
      "37800/37800 [==============================] - 19s 491us/step - loss: 0.0358 - accuracy: 0.9884 - val_loss: 0.0406 - val_accuracy: 0.9881\n",
      "Epoch 12/25\n",
      "37800/37800 [==============================] - 19s 495us/step - loss: 0.0352 - accuracy: 0.9887 - val_loss: 0.0400 - val_accuracy: 0.9869\n",
      "Epoch 13/25\n",
      "37800/37800 [==============================] - 21s 555us/step - loss: 0.0335 - accuracy: 0.9890 - val_loss: 0.0351 - val_accuracy: 0.9895\n",
      "Epoch 14/25\n",
      "37800/37800 [==============================] - 27s 704us/step - loss: 0.0330 - accuracy: 0.9898 - val_loss: 0.0320 - val_accuracy: 0.9900\n",
      "Epoch 15/25\n",
      "37800/37800 [==============================] - 30s 789us/step - loss: 0.0296 - accuracy: 0.9902 - val_loss: 0.0362 - val_accuracy: 0.9876\n",
      "Epoch 16/25\n",
      "37800/37800 [==============================] - 30s 800us/step - loss: 0.0289 - accuracy: 0.9906 - val_loss: 0.0329 - val_accuracy: 0.9888\n",
      "Epoch 17/25\n",
      "37800/37800 [==============================] - 27s 725us/step - loss: 0.0276 - accuracy: 0.9913 - val_loss: 0.0341 - val_accuracy: 0.9895\n",
      "Epoch 18/25\n",
      "37800/37800 [==============================] - 26s 694us/step - loss: 0.0252 - accuracy: 0.9918 - val_loss: 0.0348 - val_accuracy: 0.9881\n",
      "Epoch 19/25\n",
      "37800/37800 [==============================] - 26s 698us/step - loss: 0.0241 - accuracy: 0.9922 - val_loss: 0.0335 - val_accuracy: 0.9898\n",
      "Epoch 20/25\n",
      "37800/37800 [==============================] - 26s 701us/step - loss: 0.0228 - accuracy: 0.9925 - val_loss: 0.0377 - val_accuracy: 0.9886\n",
      "Epoch 21/25\n",
      "37800/37800 [==============================] - 27s 713us/step - loss: 0.0250 - accuracy: 0.9919 - val_loss: 0.0327 - val_accuracy: 0.9898\n",
      "Epoch 22/25\n",
      "37800/37800 [==============================] - 27s 703us/step - loss: 0.0221 - accuracy: 0.9928 - val_loss: 0.0381 - val_accuracy: 0.9883\n",
      "Epoch 23/25\n",
      "37800/37800 [==============================] - 27s 710us/step - loss: 0.0221 - accuracy: 0.9924 - val_loss: 0.0340 - val_accuracy: 0.9902\n",
      "Epoch 24/25\n",
      "37800/37800 [==============================] - 21s 561us/step - loss: 0.0203 - accuracy: 0.9937 - val_loss: 0.0353 - val_accuracy: 0.9883\n",
      "Epoch 25/25\n",
      "37800/37800 [==============================] - 20s 528us/step - loss: 0.0187 - accuracy: 0.9934 - val_loss: 0.0349 - val_accuracy: 0.9895\n"
     ]
    },
    {
     "data": {
      "text/plain": [
       "<keras.callbacks.callbacks.History at 0x23d2ef23588>"
      ]
     },
     "execution_count": 13,
     "metadata": {},
     "output_type": "execute_result"
    }
   ],
   "source": [
    "batch_size=128\n",
    "epochs=25\n",
    "digit_class.compile(loss=\"categorical_crossentropy\",optimizer=\"adam\",metrics=[\"accuracy\"])\n",
    "digit_class.fit(x_train,y_train,epochs=epochs,batch_size=batch_size,validation_data=(x_dev,y_dev))"
   ]
  },
  {
   "cell_type": "code",
   "execution_count": 14,
   "metadata": {},
   "outputs": [
    {
     "name": "stdout",
     "output_type": "stream",
     "text": [
      "4200/4200 [==============================] - 1s 132us/step\n"
     ]
    }
   ],
   "source": [
    "score=digit_class.evaluate(x_dev,y_dev)"
   ]
  },
  {
   "cell_type": "code",
   "execution_count": 15,
   "metadata": {},
   "outputs": [
    {
     "name": "stdout",
     "output_type": "stream",
     "text": [
      "0.03492816981119415 0.9895238280296326\n"
     ]
    }
   ],
   "source": [
    "print(score[0],score[1])"
   ]
  },
  {
   "cell_type": "code",
   "execution_count": 16,
   "metadata": {},
   "outputs": [
    {
     "data": {
      "text/plain": [
       "(28000, 28, 28, 1)"
      ]
     },
     "execution_count": 16,
     "metadata": {},
     "output_type": "execute_result"
    }
   ],
   "source": [
    "x_test.shape"
   ]
  },
  {
   "cell_type": "code",
   "execution_count": 17,
   "metadata": {},
   "outputs": [],
   "source": [
    "result=digit_class.predict(x_test[:,:,:,:])\n",
    "result=result>0.5\n",
    "# print(result)"
   ]
  },
  {
   "cell_type": "code",
   "execution_count": 78,
   "metadata": {},
   "outputs": [],
   "source": [
    "result=1.0*result"
   ]
  },
  {
   "cell_type": "code",
   "execution_count": 32,
   "metadata": {},
   "outputs": [
    {
     "data": {
      "image/png": "[encoded data removed]",
      "text/plain": [
       "<Figure size 432x288 with 9 Axes>"
      ]
     },
     "metadata": {
      "needs_background": "light"
     },
     "output_type": "display_data"
    }
   ],
   "source": [
    "for i in range(9):\n",
    "\t# define subplot\n",
    "\tplt.subplot(330+1 + i)\n",
    "\t# plot raw pixel data\n",
    "\tplt.imshow(x_test[i,:,:,0], cmap='gray')\n",
    "# show the figure\n",
    "plt.show()"
   ]
  },
  {
   "cell_type": "code",
   "execution_count": 26,
   "metadata": {},
   "outputs": [
    {
     "name": "stdout",
     "output_type": "stream",
     "text": [
      "[2]\n",
      "[0]\n",
      "[9]\n",
      "[9]\n",
      "[3]\n",
      "[7]\n",
      "[0]\n",
      "[3]\n",
      "[0]\n"
     ]
    }
   ],
   "source": [
    "for i in range(9):\n",
    "    var=np.where(result[i]==1)\n",
    "    print(var[0])"
   ]
  },
  {
   "cell_type": "code",
   "execution_count": 33,
   "metadata": {},
   "outputs": [
    {
     "name": "stdout",
     "output_type": "stream",
     "text": [
      "Saved to disk\n"
     ]
    }
   ],
   "source": [
    "digit_class.save(\"model.h5\")\n",
    "print(\"Saved to disk\")"
   ]
  },
  {
   "cell_type": "code",
   "execution_count": 34,
   "metadata": {},
   "outputs": [
    {
     "name": "stdout",
     "output_type": "stream",
     "text": [
      "Model: \"digit_classification\"\n",
      "_________________________________________________________________\n",
      "Layer (type)                 Output Shape              Param #   \n",
      "=================================================================\n",
      "input_1 (InputLayer)         (None, 28, 28, 1)         0         \n",
      "_________________________________________________________________\n",
      "conv1 (Conv2D)               (None, 26, 26, 32)        320       \n",
      "_________________________________________________________________\n",
      "pool1 (MaxPooling2D)         (None, 13, 13, 32)        0         \n",
      "_________________________________________________________________\n",
      "conv2 (Conv2D)               (None, 9, 9, 64)          51264     \n",
      "_________________________________________________________________\n",
      "pool2 (MaxPooling2D)         (None, 4, 4, 64)          0         \n",
      "_________________________________________________________________\n",
      "flatten_1 (Flatten)          (None, 1024)              0         \n",
      "_________________________________________________________________\n",
      "dropout_1 (Dropout)          (None, 1024)              0         \n",
      "_________________________________________________________________\n",
      "fc (Dense)                   (None, 10)                10250     \n",
      "=================================================================\n",
      "Total params: 61,834\n",
      "Trainable params: 61,834\n",
      "Non-trainable params: 0\n",
      "_________________________________________________________________\n"
     ]
    }
   ],
   "source": [
    "from keras.models import load_model\n",
    "model2=load_model('model.h5')\n",
    "model2.summary()"
   ]
  },
  {
   "cell_type": "code",
   "execution_count": 35,
   "metadata": {},
   "outputs": [
    {
     "name": "stdout",
     "output_type": "stream",
     "text": [
      "4200/4200 [==============================] - 1s 133us/step\n"
     ]
    },
    {
     "data": {
      "text/plain": [
       "[0.03492816981119415, 0.9895238280296326]"
      ]
     },
     "execution_count": 35,
     "metadata": {},
     "output_type": "execute_result"
    }
   ],
   "source": [
    "score2=model2.evaluate(x_dev,y_dev)\n",
    "score2"
   ]
  },
  {
   "cell_type": "code",
   "execution_count": null,
   "metadata": {},
   "outputs": [],
   "source": []
  }
 ],
 "metadata": {
  "kernelspec": {
   "display_name": "Python 3",
   "language": "python",
   "name": "python3"
  },
  "language_info": {
   "codemirror_mode": {
    "name": "ipython",
    "version": 3
   },
   "file_extension": ".py",
   "mimetype": "text/x-python",
   "name": "python",
   "nbconvert_exporter": "python",
   "pygments_lexer": "ipython3",
   "version": "3.6.5"
  }
 },
 "nbformat": 4,
 "nbformat_minor": 2
}
